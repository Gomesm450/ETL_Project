{
 "cells": [
  {
   "cell_type": "code",
   "execution_count": 29,
   "metadata": {},
   "outputs": [],
   "source": [
    "import pandas as pd \n",
    "import csv\n",
    "import http.client, urllib.request, urllib.parse, urllib.error, base64\n",
    "import numpy as np\n",
    "\n",
    "symbols = ['.DJI','.INX']#,'SPE350','SPLAC','000001','NI225','DAX','UKX','OSPTX','KOSPI','EB1X','SPE350']\n",
    "\n",
    "# URL = 'https://www.alphavantage.co/query?function=TIME_SERIES_DAILY_ADJUSTED&symbol=INX&apikey=Y442NEI1Q76NWLAR&datatype=csv&outputsize=full'\n",
    "# responses = urllib.request.urlopen(URL)\n",
    "# #data = csv.reader(responses)\n",
    "# data2 = pd.read_csv(responses)\n",
    "# print(data2)"
   ]
  },
  {
   "cell_type": "code",
   "execution_count": 30,
   "metadata": {},
   "outputs": [],
   "source": [
    "data = {}\n",
    "for market in symbols:\n",
    "    url = 'https://www.alphavantage.co/query?function=TIME_SERIES_DAILY_ADJUSTED&symbol='+ market +'&apikey=Y442NEI1Q76NWLAR&datatype=csv&outputsize=full'\n",
    "    response = urllib.request.urlopen(url)\n",
    "    ind_data = pd.read_csv(response)\n",
    "    data[market] = ind_data\n",
    "\n",
    "urlbit = 'https://www.alphavantage.co/query?function=DIGITAL_CURRENCY_DAILY&symbol=BTC&market=USD&apikey=Y442NEI1Q76NWLAR&datatype=csv'\n",
    "response = urllib.request.urlopen(urlbit)\n",
    "bitcoin_data = pd.read_csv(response)\n",
    "data['bitcoinAA'] = bitcoin_data\n",
    "\n",
    "\n",
    "urlcd = 'https://api.coindesk.com/v1/bpi/historical/close.json?start=2012-01-01&end=2018-10-20'\n",
    "req = urllib.request.Request(urlcd, headers={'User-Agent': 'Mozilla/5.0'}) #had to google an error code 403 to get this syntax\n",
    "response = urllib.request.urlopen(req)\n",
    "#response = urllib.request.urlopen(urlcd, headers={'User-Agent': 'Mozilla/5.0'})\n",
    "bitcd_data = pd.read_json(response, orient='records')\n",
    "data['bitcoincd'] = bitcd_data\n"
   ]
  },
  {
   "cell_type": "code",
   "execution_count": 31,
   "metadata": {
    "scrolled": true
   },
   "outputs": [],
   "source": [
    "#print(data['.INX']['timestamp']) #making sure the data is stored as a data frame\n",
    "#print(data)"
   ]
  },
  {
   "cell_type": "code",
   "execution_count": 32,
   "metadata": {
    "scrolled": true
   },
   "outputs": [],
   "source": [
    "for market in symbols:\n",
    "    data[market].to_csv('C:/Users/Leanne/Desktop/ETL_Project/' + market.replace('.','') + '.csv', index = False, columns = ['timestamp', 'open', 'high', 'low', 'close'])\n",
    "\n",
    "data['bitcoinAA'].to_csv('C:/Users/Leanne/Desktop/ETL_Project/bitcoinAA.csv', index = False, columns = ['timestamp', 'open (USD)', 'high (USD)', 'low (USD)', 'close (USD)'], header = ['timestamp', 'open', 'high', 'low', 'close'])\n",
    "\n",
    "data['bitcoincd'][:-2].to_csv('C:/Users/Leanne/Desktop/ETL_Project/bitcoincd.csv', columns = ['bpi'], header = ['bpi'], index_label = 'timestamp')"
   ]
  },
  {
   "cell_type": "code",
   "execution_count": null,
   "metadata": {},
   "outputs": [],
   "source": []
  }
 ],
 "metadata": {
  "kernelspec": {
   "display_name": "Python 3",
   "language": "python",
   "name": "python3"
  },
  "language_info": {
   "codemirror_mode": {
    "name": "ipython",
    "version": 3
   },
   "file_extension": ".py",
   "mimetype": "text/x-python",
   "name": "python",
   "nbconvert_exporter": "python",
   "pygments_lexer": "ipython3",
   "version": "3.6.5"
  }
 },
 "nbformat": 4,
 "nbformat_minor": 2
}
